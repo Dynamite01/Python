{
 "cells": [
  {
   "cell_type": "code",
   "execution_count": 1,
   "metadata": {},
   "outputs": [
    {
     "name": "stdout",
     "output_type": "stream",
     "text": [
      "Hello {'behrix'} you love {'fbhejrrg'}\n"
     ]
    }
   ],
   "source": [
    "#task1: Input and Prints\n",
    "name = str(input(\"Enter your name: \"))     #for name \n",
    "fav_lang = str(input(\"Enter your favourite programming language: \"))   #for favourite programming language\n",
    "\n",
    "print(f'Hello', {name}, 'you love', {fav_lang}) # printing the output\n"
   ]
  },
  {
   "cell_type": "code",
   "execution_count": null,
   "metadata": {},
   "outputs": [],
   "source": [
    "#task2: Input and Prints\n",
    "first_num = int(input(\"Enter the first number  number: \"))   #for first number\n",
    "seconde_num = int(input(\"Enter the second number number: \")) #for second number\n",
    "\n",
    "sum_result = first_num + seconde_num   # calculating sum of two numbers\n",
    "diff_result = first_num - seconde_num  # calculating difference of two numbers  \n",
    "\n",
    "print(f'Sum of the two numbers:', {sum_result})  # printing the sum of two numbers\n",
    "print(f'Difference of the two numbers:', {diff_result})  # printing the difference of two numbers"
   ]
  },
  {
   "cell_type": "code",
   "execution_count": null,
   "metadata": {},
   "outputs": [],
   "source": [
    "#task3:Numbers and Arithmetic Operations\n",
    "\n",
    "length = int(input(\"Enter the length of the rectangle: \"))  #for length of the rectangle\n",
    "width = int(input(\"Enter the width of the rectangle: \"))  #for width of the rectangle\n",
    "\n",
    "area = length * width  # calculating area of the rectangle\n",
    "print(f'The area of the rectangle is :', {area})  # printing the area of the rectangle\n"
   ]
  },
  {
   "cell_type": "code",
   "execution_count": null,
   "metadata": {},
   "outputs": [],
   "source": [
    "#task4:Numbers and Arithmetic Operations\n",
    "\n",
    "number = int(input(\"Enter the number: \"))  #for number\n",
    "if(number % 3 == 0 and number % 5 == 0):  # checking if the number is divisible by both 3 and 5\n",
    "    print({number},f'is divisible by 3 and 5' )\n",
    "else: # if the number is not divisible by both 3 and 5\n",
    "    print( [number],f'is not divisible by 3 and 5' )\n"
   ]
  }
 ],
 "metadata": {
  "kernelspec": {
   "display_name": "Python 3",
   "language": "python",
   "name": "python3"
  },
  "language_info": {
   "codemirror_mode": {
    "name": "ipython",
    "version": 3
   },
   "file_extension": ".py",
   "mimetype": "text/x-python",
   "name": "python",
   "nbconvert_exporter": "python",
   "pygments_lexer": "ipython3",
   "version": "3.13.0"
  }
 },
 "nbformat": 4,
 "nbformat_minor": 2
}

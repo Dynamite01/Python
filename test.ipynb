{
 "cells": [
  {
   "cell_type": "code",
   "execution_count": 35,
   "metadata": {},
   "outputs": [
    {
     "name": "stdout",
     "output_type": "stream",
     "text": [
      "You are 34 years, 0 months, and 6 days old.\n",
      "You are 23 years, 10 months, and 9 days old.\n",
      "You are 28 years, 8 months, and 7 days old.\n",
      "You are -2 years, 9 months, and 28 days old.\n"
     ]
    }
   ],
   "source": [
    "def calculate_age(birth_date_str):\n",
    "    # Dictionary of days in each month (non-leap year)\n",
    "    DAYS_IN_MONTH = {\n",
    "        1: 31, 2: 28, 3: 31, 4: 30,\n",
    "        5: 31, 6: 30, 7: 31, 8: 31,\n",
    "        9: 30, 10: 31, 11: 30, 12: 31\n",
    "    }\n",
    "\n",
    "    # Dictionary to convert month names to numbers\n",
    "    MONTHS = {\n",
    "        'january': 1, 'february': 2, 'march': 3, 'april': 4,\n",
    "        'may': 5, 'june': 6, 'july': 7, 'august': 8,\n",
    "        'september': 9, 'october': 10, 'november': 11, 'december': 12\n",
    "    }\n",
    "\n",
    "    # Current date\n",
    "    current_year = 2024\n",
    "    current_month = 1\n",
    "    current_day = 7\n",
    "\n",
    "    # Step 1: Parse the birth date string\n",
    "    birth_date = birth_date_str.lower().split()\n",
    "    \n",
    "    # Convert month name to number\n",
    "    if birth_date[1] in MONTHS:\n",
    "        birth_date[1] = MONTHS[birth_date[1]]\n",
    "    else:\n",
    "        return \"Invalid month name.\"\n",
    "    \n",
    "    # Determine the date format and convert to [day, month, year]\n",
    "    if len(birth_date[0]) == 4:  # YYYY Month DD\n",
    "        birth_date = [int(birth_date[2]), int(birth_date[1]), int(birth_date[0])]\n",
    "    elif len(birth_date[2]) == 4:  # DD Month YYYY\n",
    "        birth_date = [int(birth_date[0]), int(birth_date[1]), int(birth_date[2])]\n",
    "    else:\n",
    "        return \"Invalid date format.\"\n",
    "\n",
    "    birth_day, birth_month, birth_year = birth_date\n",
    "\n",
    "    # Step 2: Check if a year is a leap year\n",
    "    def is_leap(year):\n",
    "        return (year % 4 == 0 and year % 100 != 0) or (year % 400 == 0)\n",
    "\n",
    "    # Step 3: Calculate years, months, and days\n",
    "    age_years = current_year - birth_year\n",
    "    age_months = current_month - birth_month\n",
    "    age_days = current_day - birth_day\n",
    "\n",
    "    # Step 4: Adjust for negative days\n",
    "    if age_days < 0:\n",
    "        previous_month = current_month - 1 if current_month > 1 else 12\n",
    "        previous_year = current_year if current_month > 1 else current_year - 1\n",
    "        \n",
    "        days_in_previous_month = DAYS_IN_MONTH[previous_month]\n",
    "        if previous_month == 2 and is_leap(previous_year):\n",
    "            days_in_previous_month += 1\n",
    "\n",
    "        age_days += days_in_previous_month\n",
    "        age_months -= 1\n",
    "\n",
    "    # Step 5: Adjust for negative months\n",
    "    if age_months < 0:\n",
    "        age_months += 12\n",
    "        age_years -= 1\n",
    "\n",
    "    # Step 6: Return the formatted string\n",
    "    return f\"You are {age_years} years, {age_months} months, and {age_days} days old.\"\n",
    "\n",
    "\n"
   ]
  }
 ],
 "metadata": {
  "kernelspec": {
   "display_name": "myenv",
   "language": "python",
   "name": "python3"
  },
  "language_info": {
   "codemirror_mode": {
    "name": "ipython",
    "version": 3
   },
   "file_extension": ".py",
   "mimetype": "text/x-python",
   "name": "python",
   "nbconvert_exporter": "python",
   "pygments_lexer": "ipython3",
   "version": "3.12.7"
  }
 },
 "nbformat": 4,
 "nbformat_minor": 2
}
